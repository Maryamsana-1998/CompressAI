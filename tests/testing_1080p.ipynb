{
 "cells": [
  {
   "cell_type": "code",
   "execution_count": 15,
   "id": "2bbb4443-1bb3-4dd3-a4ca-f7f5353ef0e1",
   "metadata": {},
   "outputs": [],
   "source": [
    "import compressai\n",
    "import importlib\n",
    "import json\n",
    "import os\n",
    "import random\n",
    "import numpy as np\n",
    "import torch\n",
    "from pathlib import Path\n",
    "import json\n",
    "import glob \n",
    "from compressai.datasets.rawvideo import RawVideoSequence\n",
    "\n",
    "eval_model = importlib.import_module(\"compressai.utils.video.eval_model.__main__\")\n",
    "\n",
    "# Derive the directory containing the notebook file\n",
    "checkpoint = \"checkpoints/checkpoint_8_best_recent.pth.tar\"\n",
    "assert os.path.isfile(checkpoint)\n",
    "model = 'ssf2020'\n",
    "metric = 'mse'\n",
    "here = Path('tmp/out.bin')"
   ]
  },
  {
   "cell_type": "code",
   "execution_count": null,
   "id": "5588617f-6d32-4883-8e1f-a604c83756a0",
   "metadata": {},
   "outputs": [],
   "source": [
    "net = eval_model.load_checkpoint(model, False, checkpoint)"
   ]
  },
  {
   "cell_type": "code",
   "execution_count": 21,
   "id": "62dc0001-14f5-434b-803d-b1de0cba905d",
   "metadata": {},
   "outputs": [],
   "source": [
    "from torch.hub import load_state_dict_from_url\n",
    "\n",
    "from compressai.models.video import ScaleSpaceFlow\n",
    "\n",
    "from compressai.zoo.pretrained import load_pretrained\n",
    "\n",
    "url = 'https://compressai.s3.amazonaws.com/models/v1/ssf2020-mse-9-e89345c4.pth.tar'\n",
    "# url = 'https://compressai.s3.amazonaws.com/models/v1/ssf2020-mse-3-9c8b998d.pth.tar'\n",
    "progress=True\n",
    "state_dict = load_state_dict_from_url(url, progress=progress)\n",
    "state_dict = load_pretrained(state_dict)\n",
    "model = ScaleSpaceFlow.from_state_dict(state_dict)"
   ]
  },
  {
   "cell_type": "code",
   "execution_count": 24,
   "id": "35ead95c-1a87-4e41-b021-5d4cc9a435b2",
   "metadata": {},
   "outputs": [
    {
     "name": "stderr",
     "output_type": "stream",
     "text": [
      " encoding C_RaceHorses_2frames_832x480_30Hz_8bit_P420\n",
      "100%|███████████████████████████████████████████████████████████████████████████████| 2/2 [00:01<00:00,  1.03it/s]\n"
     ]
    }
   ],
   "source": [
    "video = Path('assets/dataset/video/C_RaceHorses_2frames_832x480_30Hz_8bit_P420.yuv')\n",
    "result = eval_model.eval_model(net, video,here)"
   ]
  },
  {
   "cell_type": "code",
   "execution_count": 25,
   "id": "98fb2203-1edc-4f4a-b30f-eccff2ff0e70",
   "metadata": {},
   "outputs": [
    {
     "name": "stdout",
     "output_type": "stream",
     "text": [
      "Metric         Ours                Expected            \n",
      "-------------------------------------------------------\n",
      "psnr-y         31.539241790771484  38.320213317871094  \n",
      "psnr-u         37.8870849609375    42.999244689941406  \n",
      "psnr-v         39.13776397705078   43.85735321044922   \n",
      "psnr-yuv       33.86363983154297   40.022911071777344  \n",
      "ms-ssim-rgb    0.964973509311676   0.9934679269790649  \n",
      "mse-rgb        57.340843200683594  12.823404312133789  \n",
      "psnr-rgb       30.546234130859375  37.22743225097656   \n",
      "bitrate        6574.68             22620.12            \n"
     ]
    }
   ],
   "source": [
    "# print(' Our results : ', result)\n",
    "with open('expected/eval_0_ssf2020_mse_8.json', 'r') as file:\n",
    "    data = json.load(file)\n",
    "expected_result =  data['results']\n",
    "\n",
    "print(f\"{'Metric':<15}{'Ours':<20}{'Expected':<20}\")\n",
    "print(\"-\" * 55)\n",
    "for metric, value in result.items():\n",
    "    expected_value = expected_result[metric][0] if metric in expected_result else \"N/A\"\n",
    "    print(f\"{metric:<15}{value:<20}{expected_value:<20}\")"
   ]
  },
  {
   "cell_type": "code",
   "execution_count": 4,
   "id": "d736b897-928e-46f7-848f-34cfd3507d5e",
   "metadata": {},
   "outputs": [],
   "source": [
    "from compressai.datasets import VideoFolder\n",
    "from torchvision import transforms\n",
    "\n",
    "train_transforms = transforms.Compose(\n",
    "    [transforms.ToTensor(), transforms.RandomCrop(256)]\n",
    ")\n",
    "\n",
    "train_dataset = VideoFolder(\n",
    "    '/data/maryam.sana/vimeo_septuplet/',\n",
    "    rnd_interval=True,\n",
    "    rnd_temp_order=True,\n",
    "    split=\"train\",\n",
    "    transform=train_transforms,\n",
    ")"
   ]
  },
  {
   "cell_type": "code",
   "execution_count": 7,
   "id": "24f3dd52-38d6-4ee3-bf93-425e781d6fa3",
   "metadata": {},
   "outputs": [
    {
     "data": {
      "text/plain": [
       "8"
      ]
     },
     "execution_count": 7,
     "metadata": {},
     "output_type": "execute_result"
    }
   ],
   "source": [
    "train_dataset.max_frames "
   ]
  },
  {
   "cell_type": "code",
   "execution_count": 9,
   "id": "ec3255ce-fe21-468b-aef2-fe0f48430a7c",
   "metadata": {},
   "outputs": [
    {
     "name": "stdout",
     "output_type": "stream",
     "text": [
      "54109.0\n"
     ]
    }
   ],
   "source": [
    "org_seq = RawVideoSequence.from_file(str(video))\n",
    "no_frames = len(org_seq)\n",
    "binpath = (result['bitrate']*1000*no_frames)/(8*org_seq.framerate)\n",
    "print(binpath)"
   ]
  },
  {
   "cell_type": "code",
   "execution_count": 10,
   "id": "9761de34-7ecb-4c9d-bdee-648932c249c6",
   "metadata": {},
   "outputs": [
    {
     "name": "stdout",
     "output_type": "stream",
     "text": [
      "no frames 2\n",
      "dim: 832x480\n",
      "total pixels in video: 798720\n",
      "bpp:  0.06774464142628205\n"
     ]
    }
   ],
   "source": [
    "print('no frames', no_frames)\n",
    "dim = video.stem.split('_')[3]\n",
    "print('dim:', dim)\n",
    "w,h = dim.split('x')\n",
    "pixels = no_frames*int(w)*int(h)\n",
    "print('total pixels in video:', pixels)\n",
    "\n",
    "bpp = binpath/pixels\n",
    "\n",
    "print('bpp: ', bpp)"
   ]
  },
  {
   "cell_type": "code",
   "execution_count": 20,
   "id": "1c00ffed-4809-4491-9a23-afe6b0bdb94e",
   "metadata": {},
   "outputs": [],
   "source": [
    "quality_3_results = glob.glob('UVG_results/quality_3/*.json')\n",
    "videos = glob.glob('/data/maryam.sana/UVG/*.yuv')"
   ]
  },
  {
   "cell_type": "code",
   "execution_count": 25,
   "id": "414d0fec-ce3e-47cc-91b1-2c918691e30d",
   "metadata": {},
   "outputs": [],
   "source": [
    "def calculate_bpp(video_path: str, json_path: str) -> dict:\n",
    "    # Load JSON file\n",
    "    with open(json_path, 'r') as f:\n",
    "        json_data = json.load(f)\n",
    "\n",
    "    # Load video sequence\n",
    "    video_file = Path(video_path)\n",
    "    org_seq = RawVideoSequence.from_file(str(video_file))\n",
    "    no_frames = len(org_seq)\n",
    "\n",
    "    # Calculate bitrate\n",
    "    bitrate = json_data['bitrate']\n",
    "    binpath = (bitrate * 1000 * no_frames) / (8 * org_seq.framerate)\n",
    "\n",
    "    # Calculate dimensions and total pixels\n",
    "    # print(video_file.stem.split('_'))\n",
    "    dim = video_file.stem.split('_')[1]\n",
    "    w, h = map(int, dim.split('x'))\n",
    "    pixels = no_frames * w * h\n",
    "\n",
    "    # Calculate bits per pixel (bpp)\n",
    "    bpp = binpath / pixels\n",
    "\n",
    "    # Add bpp to JSON data\n",
    "    json_data['bpp'] = float(bpp)\n",
    "\n",
    "    return json_data\n"
   ]
  },
  {
   "cell_type": "code",
   "execution_count": 27,
   "id": "89ceadb7-ec72-490f-8682-bef973082887",
   "metadata": {},
   "outputs": [
    {
     "name": "stdout",
     "output_type": "stream",
     "text": [
      "/data/maryam.sana/UVG/Jockey_1920x1080_120fps_420_8bit_YUV.yuv\n",
      "/data/maryam.sana/UVG/FlowerPan_3840x2160_50fps_420_10bit_YUV.yuv\n",
      "/data/maryam.sana/UVG/Beauty_1920x1080_120fps_420_8bit_YUV.yuv\n",
      "/data/maryam.sana/UVG/FlowerKids_3840x2160_50fps_420_10bit_YUV.yuv\n",
      "/data/maryam.sana/UVG/HoneyBee_1920x1080_120fps_420_8bit_YUV.yuv\n",
      "/data/maryam.sana/UVG/ShakeNDry_1920x1080_120fps_420_8bit_YUV.yuv\n",
      "/data/maryam.sana/UVG/Twilight_3840x2160_50fps_420_10bit_YUV.yuv\n",
      "/data/maryam.sana/UVG/RaceNight_3840x2160_50fps_420_10bit_YUV.yuv\n",
      "/data/maryam.sana/UVG/CityAlley_3840x2160_50fps_420_10bit_YUV.yuv\n",
      "/data/maryam.sana/UVG/YachtRide_1920x1080_120fps_420_8bit_YUV.yuv\n",
      "/data/maryam.sana/UVG/Lips_3840x2160_120fps_420_10bit_YUV.yuv\n",
      "/data/maryam.sana/UVG/FlowerFocus_3840x2160_50fps_420_10bit_YUV.yuv\n",
      "/data/maryam.sana/UVG/RiverBank_3840x2160_50fps_420_10bit_YUV.yuv\n",
      "/data/maryam.sana/UVG/SunBath_3840x2160_50fps_420_10bit_YUV.yuv\n",
      "/data/maryam.sana/UVG/Bosphorus_1920x1080_120fps_420_8bit_YUV.yuv\n",
      "/data/maryam.sana/UVG/ReadySteadyGo_1920x1080_120fps_420_8bit_YUV.yuv\n"
     ]
    }
   ],
   "source": [
    "data_q3 = []\n",
    "for json_file in quality_3_results:\n",
    "    video_file = '/data/maryam.sana/UVG/' + Path(json_file).stem + '.yuv'\n",
    "    print(video_file)\n",
    "    r = calculate_bpp(video_file, json_file)\n",
    "    data_q3.append(r)"
   ]
  },
  {
   "cell_type": "code",
   "execution_count": 30,
   "id": "8fc859f5-6a8e-459f-a8cc-f941db689346",
   "metadata": {},
   "outputs": [],
   "source": [
    "import statistics \n",
    "\n",
    "def get_mean(data_q3):\n",
    "    bpp_values = [entry['bpp'] for entry in data_q3]\n",
    "    psnr_rgb_values = [entry['psnr-rgb'] for entry in data_q3]\n",
    "    ms_ssim_rgb_values = [entry['ms-ssim-rgb'] for entry in data_q3]\n",
    "    \n",
    "    # Calculate mean bpp, mean psnr-rgb, and mean ms-ssim-rgb\n",
    "    mean_bpp = statistics.mean(bpp_values)\n",
    "    mean_psnr_rgb = statistics.mean(psnr_rgb_values)\n",
    "    mean_ms_ssim_rgb = statistics.mean(ms_ssim_rgb_values)\n",
    "    return mean_bpp, mean_psnr_rgb, mean_ms_ssim_rgb\n"
   ]
  },
  {
   "cell_type": "code",
   "execution_count": 31,
   "id": "d8932688-d4ce-4022-95b6-431dcf7664c2",
   "metadata": {},
   "outputs": [
    {
     "name": "stdout",
     "output_type": "stream",
     "text": [
      "Mean bpp: 0.020437851517288774\n",
      "Mean psnr-rgb: 35.96308350563049\n",
      "Mean ms-ssim-rgb: 0.9595210216939449\n"
     ]
    }
   ],
   "source": [
    "mean_bpp, mean_psnr_rgb, mean_ms_ssim_rgb = get_mean(data_q3)\n",
    "\n",
    "print(\"Mean bpp:\", mean_bpp)\n",
    "print(\"Mean psnr-rgb:\", mean_psnr_rgb)\n",
    "print(\"Mean ms-ssim-rgb:\", mean_ms_ssim_rgb)"
   ]
  },
  {
   "cell_type": "code",
   "execution_count": 33,
   "id": "8d0feb03-5ab0-48c7-8fd0-c21458a11b9f",
   "metadata": {},
   "outputs": [
    {
     "name": "stdout",
     "output_type": "stream",
     "text": [
      "/data/maryam.sana/UVG/Jockey_1920x1080_120fps_420_8bit_YUV.yuv\n",
      "/data/maryam.sana/UVG/FlowerPan_3840x2160_50fps_420_10bit_YUV.yuv\n",
      "/data/maryam.sana/UVG/Beauty_1920x1080_120fps_420_8bit_YUV.yuv\n",
      "/data/maryam.sana/UVG/FlowerKids_3840x2160_50fps_420_10bit_YUV.yuv\n",
      "/data/maryam.sana/UVG/HoneyBee_1920x1080_120fps_420_8bit_YUV.yuv\n",
      "/data/maryam.sana/UVG/ShakeNDry_1920x1080_120fps_420_8bit_YUV.yuv\n",
      "/data/maryam.sana/UVG/Twilight_3840x2160_50fps_420_10bit_YUV.yuv\n",
      "/data/maryam.sana/UVG/RaceNight_3840x2160_50fps_420_10bit_YUV.yuv\n",
      "/data/maryam.sana/UVG/CityAlley_3840x2160_50fps_420_10bit_YUV.yuv\n",
      "/data/maryam.sana/UVG/YachtRide_1920x1080_120fps_420_8bit_YUV.yuv\n",
      "/data/maryam.sana/UVG/Lips_3840x2160_120fps_420_10bit_YUV.yuv\n",
      "/data/maryam.sana/UVG/FlowerFocus_3840x2160_50fps_420_10bit_YUV.yuv\n",
      "/data/maryam.sana/UVG/RiverBank_3840x2160_50fps_420_10bit_YUV.yuv\n",
      "/data/maryam.sana/UVG/SunBath_3840x2160_50fps_420_10bit_YUV.yuv\n",
      "/data/maryam.sana/UVG/Bosphorus_1920x1080_120fps_420_8bit_YUV.yuv\n",
      "/data/maryam.sana/UVG/ReadySteadyGo_1920x1080_120fps_420_8bit_YUV.yuv\n"
     ]
    }
   ],
   "source": [
    "quality_8_results = glob.glob('UVG_results/quality_8/*.json')\n",
    "videos = glob.glob('/data/maryam.sana/UVG/*.yuv')\n",
    "\n",
    "data_q8 = []\n",
    "for json_file in quality_8_results:\n",
    "    video_file = '/data/maryam.sana/UVG/' + Path(json_file).stem + '.yuv'\n",
    "    print(video_file)\n",
    "    r = calculate_bpp(video_file, json_file)\n",
    "    data_q8.append(r)"
   ]
  },
  {
   "cell_type": "code",
   "execution_count": 34,
   "id": "13d75832-1c52-46a3-bcc3-cf08ecfb00e3",
   "metadata": {},
   "outputs": [
    {
     "name": "stdout",
     "output_type": "stream",
     "text": [
      "Mean bpp: 0.02384233571747203\n",
      "Mean psnr-rgb: 34.862271308898926\n",
      "Mean ms-ssim-rgb: 0.9551374390721321\n"
     ]
    }
   ],
   "source": [
    "mean_bpp, mean_psnr_rgb, mean_ms_ssim_rgb = get_mean(data_q8)\n",
    "\n",
    "print(\"Mean bpp:\", mean_bpp)\n",
    "print(\"Mean psnr-rgb:\", mean_psnr_rgb)\n",
    "print(\"Mean ms-ssim-rgb:\", mean_ms_ssim_rgb)"
   ]
  },
  {
   "cell_type": "code",
   "execution_count": 49,
   "id": "5a0ebbe0-33b8-4441-931b-086689f109db",
   "metadata": {},
   "outputs": [
    {
     "data": {
      "image/png": "[encoded data removed]",
      "text/plain": [
       "<Figure size 800x600 with 1 Axes>"
      ]
     },
     "metadata": {},
     "output_type": "display_data"
    },
    {
     "data": {
      "image/png": "[encoded data removed]",
      "text/plain": [
       "<Figure size 800x600 with 1 Axes>"
      ]
     },
     "metadata": {},
     "output_type": "display_data"
    }
   ],
   "source": [
    "import matplotlib.pyplot as plt\n",
    "\n",
    "# Example data\n",
    "bpp = [0.02384233571747203, 0.020437851517288774]\n",
    "psnr_rgb = [34.862271308898926, 35.96308350563049]\n",
    "ms_ssim_rgb = [0.9551374390721321, 0.9595210216939449]\n",
    "\n",
    "# Plot bpp vs psnr_rgb\n",
    "plt.figure(figsize=(8, 6))\n",
    "plt.plot(bpp, psnr_rgb, marker='o', linestyle='-', color='b', label='bpp vs psnr_rgb')\n",
    "plt.xlabel('Bpp')\n",
    "plt.ylabel('PSNR-RGB')\n",
    "plt.title('Rate-Distortion Curve: Bpp vs PSNR-RGB')\n",
    "plt.grid(True)\n",
    "plt.legend()\n",
    "plt.savefig('psnr.png')\n",
    "plt.show()\n",
    "\n",
    "# Plot bpp vs ms_ssim_rgb\n",
    "plt.figure(figsize=(8, 6))\n",
    "plt.plot(bpp, ms_ssim_rgb, marker='o', linestyle='-', color='r', label='bpp vs ms_ssim_rgb')\n",
    "plt.xlabel('Bpp')\n",
    "plt.ylabel('MS-SSIM-RGB')\n",
    "plt.title('Rate-Distortion Curve: Bpp vs MS-SSIM-RGB')\n",
    "plt.grid(True)\n",
    "plt.legend()\n",
    "plt.savefig('mssim.png')\n",
    "plt.show()\n"
   ]
  },
  {
   "cell_type": "code",
   "execution_count": 18,
   "id": "320be717-6b2b-4cdb-87e2-9ece060dd972",
   "metadata": {},
   "outputs": [],
   "source": [
    "from torch.hub import load_state_dict_from_url\n",
    "\n",
    "from compressai.models.video import ScaleSpaceFlow\n",
    "\n",
    "from compressai.zoo.pretrained import load_pretrained\n",
    "\n",
    "url = 'https://compressai.s3.amazonaws.com/models/v1/ssf2020-mse-9-e89345c4.pth.tar'\n",
    "# url = 'https://compressai.s3.amazonaws.com/models/v1/ssf2020-mse-3-9c8b998d.pth.tar'\n",
    "progress=True\n",
    "state_dict = load_state_dict_from_url(url, progress=progress)\n",
    "state_dict = load_pretrained(state_dict)\n",
    "model = ScaleSpaceFlow.from_state_dict(state_dict)\n"
   ]
  },
  {
   "cell_type": "code",
   "execution_count": 11,
   "id": "8b393e9c-bb9c-45c6-ab1c-358bd1ff4b6c",
   "metadata": {},
   "outputs": [
    {
     "name": "stdout",
     "output_type": "stream",
     "text": [
      "model size: 133.149MB\n"
     ]
    }
   ],
   "source": [
    "param_size = 0\n",
    "for param in model.parameters():\n",
    "    param_size += param.nelement() * param.element_size()\n",
    "buffer_size = 0\n",
    "for buffer in model.buffers():\n",
    "    buffer_size += buffer.nelement() * buffer.element_size()\n",
    "\n",
    "size_all_mb = (param_size + buffer_size) / 1024**2\n",
    "print('model size: {:.3f}MB'.format(size_all_mb))"
   ]
  },
  {
   "cell_type": "code",
   "execution_count": null,
   "id": "10d9d903-f8c5-4e01-807f-1dda370a6029",
   "metadata": {},
   "outputs": [],
   "source": []
  }
 ],
 "metadata": {
  "kernelspec": {
   "display_name": "Python 3 (ipykernel)",
   "language": "python",
   "name": "python3"
  },
  "language_info": {
   "codemirror_mode": {
    "name": "ipython",
    "version": 3
   },
   "file_extension": ".py",
   "mimetype": "text/x-python",
   "name": "python",
   "nbconvert_exporter": "python",
   "pygments_lexer": "ipython3",
   "version": "3.12.2"
  }
 },
 "nbformat": 4,
 "nbformat_minor": 5
}
