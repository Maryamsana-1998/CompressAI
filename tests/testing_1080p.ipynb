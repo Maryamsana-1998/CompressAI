{
 "cells": [
  {
   "cell_type": "code",
   "execution_count": null,
   "id": "2bbb4443-1bb3-4dd3-a4ca-f7f5353ef0e1",
   "metadata": {},
   "outputs": [],
   "source": [
    "import compressai\n",
    "import importlib\n",
    "import json\n",
    "import os\n",
    "import random\n",
    "import numpy as np\n",
    "import torch\n",
    "from pathlib import Path\n",
    "import json\n",
    "import glob \n",
    "\n",
    "eval_model = importlib.import_module(\"compressai.utils.video.eval_model.__main__\")\n",
    "\n",
    "# Derive the directory containing the notebook file\n",
    "checkpoint = \"checkpoints/checkpoint_best_loss_8.pth.tar\"\n",
    "assert os.path.isfile(checkpoint)\n",
    "model = 'ssf2020'\n",
    "metric = 'mse'\n",
    "here = Path('tmp/out.bin')"
   ]
  }
 ],
 "metadata": {
  "kernelspec": {
   "display_name": "Python 3 (ipykernel)",
   "language": "python",
   "name": "python3"
  },
  "language_info": {
   "codemirror_mode": {
    "name": "ipython",
    "version": 3
   },
   "file_extension": ".py",
   "mimetype": "text/x-python",
   "name": "python",
   "nbconvert_exporter": "python",
   "pygments_lexer": "ipython3",
   "version": "3.12.2"
  }
 },
 "nbformat": 4,
 "nbformat_minor": 5
}
